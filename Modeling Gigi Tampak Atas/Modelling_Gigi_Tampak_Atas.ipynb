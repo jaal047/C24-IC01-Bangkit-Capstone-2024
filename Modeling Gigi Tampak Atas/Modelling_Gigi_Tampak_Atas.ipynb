{
  "cells": [
    {
      "cell_type": "code",
      "execution_count": 1,
      "metadata": {
        "id": "cVNFlFOHdRxZ"
      },
      "outputs": [],
      "source": [
        "import numpy as np\n",
        "import tensorflow as tf\n",
        "import os\n",
        "import numpy as np\n",
        "import tensorflow as tf\n",
        "from tensorflow import keras\n",
        "from tensorflow.keras.preprocessing.image import ImageDataGenerator\n",
        "from sklearn.model_selection import train_test_split\n",
        "from google.colab import drive\n",
        "import glob\n",
        "import os\n",
        "from keras.callbacks import EarlyStopping\n"
      ]
    },
    {
      "cell_type": "code",
      "execution_count": 2,
      "metadata": {
        "colab": {
          "base_uri": "https://localhost:8080/"
        },
        "id": "OWJ2VyIydTr_",
        "outputId": "5fd957c1-4f5a-448b-fea1-420305f79972"
      },
      "outputs": [
        {
          "output_type": "stream",
          "name": "stdout",
          "text": [
            "Mounted at /content/drive\n"
          ]
        }
      ],
      "source": [
        "drive.mount('/content/drive')"
      ]
    },
    {
      "cell_type": "code",
      "execution_count": 5,
      "metadata": {
        "id": "Tv8UFqEPdTh1"
      },
      "outputs": [],
      "source": [
        "dataset_dir = '/content/drive/MyDrive/Dataset_IC01/Gigi Tampak Atas '"
      ]
    },
    {
      "cell_type": "code",
      "execution_count": 6,
      "metadata": {
        "id": "RbpOTnLOdTfB"
      },
      "outputs": [],
      "source": [
        "class_labels = ['Gigi Sehat (Nodup)', 'Gigi Berlubang (Nodup)', 'Bengkak Gusi', 'Plak Gigi']"
      ]
    },
    {
      "cell_type": "code",
      "execution_count": 7,
      "metadata": {
        "colab": {
          "base_uri": "https://localhost:8080/"
        },
        "id": "LcSTj11yetgE",
        "outputId": "2150360d-c9f4-4068-8fbb-9fb269cfbf36"
      },
      "outputs": [
        {
          "output_type": "stream",
          "name": "stdout",
          "text": [
            "['Gigi Sehat (Nodup)', 'Gigi Berlubang (Nodup)', 'Bengkak Gusi', 'Plak Gigi']\n"
          ]
        }
      ],
      "source": [
        "import os\n",
        "files = os.listdir(dataset_dir)\n",
        "print(files)"
      ]
    },
    {
      "cell_type": "code",
      "execution_count": 8,
      "metadata": {
        "id": "KHY8JQ9zdTcn"
      },
      "outputs": [],
      "source": [
        "# Initialize an empty list to store the image files\n",
        "image_files = []\n",
        "\n",
        "# Iterate over the subdirectories\n",
        "for subdir in os.listdir(dataset_dir):\n",
        "    subdir_path = os.path.join(dataset_dir, subdir)\n",
        "    for file in os.listdir(subdir_path):\n",
        "        if file.endswith(('.jpg', '.jpeg', '.png')):\n",
        "            image_files.append(os.path.join(subdir_path, file))\n",
        "\n",
        "# Split the image files into training and testing sets\n",
        "train_files, test_files = train_test_split(image_files, test_size=0.2, random_state=42)"
      ]
    },
    {
      "cell_type": "code",
      "execution_count": 9,
      "metadata": {
        "colab": {
          "base_uri": "https://localhost:8080/"
        },
        "id": "bXw3g8Rmuqwx",
        "outputId": "7208f11f-97ce-4358-9b26-62adbfdb1f43"
      },
      "outputs": [
        {
          "output_type": "stream",
          "name": "stdout",
          "text": [
            "Found 1750 images belonging to 4 classes.\n",
            "Found 1750 images belonging to 4 classes.\n"
          ]
        }
      ],
      "source": [
        "train_datagen = ImageDataGenerator(rescale=1./255)\n",
        "test_datagen = ImageDataGenerator(rescale=1./255)\n",
        "\n",
        "train_generator = train_datagen.flow_from_directory(\n",
        "    dataset_dir,\n",
        "    target_size=(224, 224),\n",
        "    batch_size=16,\n",
        "    class_mode='categorical',\n",
        "    classes=class_labels\n",
        ")\n",
        "\n",
        "test_generator = test_datagen.flow_from_directory(\n",
        "    dataset_dir,\n",
        "    target_size=(224, 224),\n",
        "    batch_size=16,\n",
        "    class_mode='categorical',\n",
        "    classes=class_labels\n",
        ")"
      ]
    },
    {
      "cell_type": "code",
      "execution_count": 14,
      "metadata": {
        "id": "AdaimzMXuquV"
      },
      "outputs": [],
      "source": [
        "# Define the CNN model architecture\n",
        "model = keras.Sequential([\n",
        "    keras.layers.Conv2D(32, (3, 3), activation='relu', input_shape=(224, 224, 3)),\n",
        "    keras.layers.MaxPooling2D((2, 2)),\n",
        "    keras.layers.Conv2D(64, (3, 3), activation='relu'),\n",
        "    keras.layers.MaxPooling2D((2, 2)),\n",
        "    keras.layers.Conv2D(128, (3, 3), activation='relu'),\n",
        "    keras.layers.MaxPooling2D((2, 2)),\n",
        "    keras.layers.Flatten(),\n",
        "    keras.layers.Dense(128, activation='relu'),\n",
        "    keras.layers.Dropout(0.2),\n",
        "    keras.layers.Dense(4, activation='softmax')\n",
        "])\n"
      ]
    },
    {
      "cell_type": "code",
      "execution_count": 15,
      "metadata": {
        "colab": {
          "base_uri": "https://localhost:8080/"
        },
        "id": "RPboycqjfp51",
        "outputId": "df995635-afd1-436f-f9ab-092d55daff0e"
      },
      "outputs": [
        {
          "output_type": "stream",
          "name": "stdout",
          "text": [
            "Model: \"sequential_1\"\n",
            "_________________________________________________________________\n",
            " Layer (type)                Output Shape              Param #   \n",
            "=================================================================\n",
            " conv2d_3 (Conv2D)           (None, 222, 222, 32)      896       \n",
            "                                                                 \n",
            " max_pooling2d_3 (MaxPoolin  (None, 111, 111, 32)      0         \n",
            " g2D)                                                            \n",
            "                                                                 \n",
            " conv2d_4 (Conv2D)           (None, 109, 109, 64)      18496     \n",
            "                                                                 \n",
            " max_pooling2d_4 (MaxPoolin  (None, 54, 54, 64)        0         \n",
            " g2D)                                                            \n",
            "                                                                 \n",
            " conv2d_5 (Conv2D)           (None, 52, 52, 128)       73856     \n",
            "                                                                 \n",
            " max_pooling2d_5 (MaxPoolin  (None, 26, 26, 128)       0         \n",
            " g2D)                                                            \n",
            "                                                                 \n",
            " flatten_1 (Flatten)         (None, 86528)             0         \n",
            "                                                                 \n",
            " dense_2 (Dense)             (None, 128)               11075712  \n",
            "                                                                 \n",
            " dropout_1 (Dropout)         (None, 128)               0         \n",
            "                                                                 \n",
            " dense_3 (Dense)             (None, 4)                 516       \n",
            "                                                                 \n",
            "=================================================================\n",
            "Total params: 11169476 (42.61 MB)\n",
            "Trainable params: 11169476 (42.61 MB)\n",
            "Non-trainable params: 0 (0.00 Byte)\n",
            "_________________________________________________________________\n"
          ]
        }
      ],
      "source": [
        "model.summary()"
      ]
    },
    {
      "cell_type": "code",
      "execution_count": 16,
      "metadata": {
        "id": "YYFcMG6gfsj5"
      },
      "outputs": [],
      "source": [
        "# Compile the model\n",
        "model.compile(optimizer='adam',\n",
        "              loss='categorical_crossentropy',\n",
        "              metrics=['accuracy'])\n",
        "\n"
      ]
    },
    {
      "cell_type": "code",
      "execution_count": 17,
      "metadata": {
        "colab": {
          "base_uri": "https://localhost:8080/"
        },
        "id": "JnsUFd1afw1-",
        "outputId": "a258eadf-9d2e-4d41-f662-52a3a70aec77"
      },
      "outputs": [
        {
          "output_type": "stream",
          "name": "stdout",
          "text": [
            "Epoch 1/100\n",
            "54/54 [==============================] - ETA: 0s - loss: 1.2505 - accuracy: 0.5082"
          ]
        },
        {
          "output_type": "stream",
          "name": "stderr",
          "text": [
            "/usr/local/lib/python3.10/dist-packages/PIL/Image.py:996: UserWarning: Palette images with Transparency expressed in bytes should be converted to RGBA images\n",
            "  warnings.warn(\n"
          ]
        },
        {
          "output_type": "stream",
          "name": "stdout",
          "text": [
            "\b\b\b\b\b\b\b\b\b\b\b\b\b\b\b\b\b\b\b\b\b\b\b\b\b\b\b\b\b\b\b\b\b\b\b\b\b\b\b\b\b\b\b\b\b\b\b\b\b\b\b\b\b\b\b\b\b\b\b\b\b\b\b\b\b\b\b\b\b\b\b\b\b\b\b\b\b\b\b\b\b\b\r54/54 [==============================] - 424s 8s/step - loss: 1.2505 - accuracy: 0.5082 - val_loss: 0.8651 - val_accuracy: 0.7211\n",
            "Epoch 2/100\n",
            "54/54 [==============================] - 191s 4s/step - loss: 0.8607 - accuracy: 0.6874 - val_loss: 0.7631 - val_accuracy: 0.7361\n",
            "Epoch 3/100\n",
            "54/54 [==============================] - 204s 4s/step - loss: 0.7546 - accuracy: 0.7442 - val_loss: 0.6993 - val_accuracy: 0.7569\n",
            "Epoch 4/100\n",
            "54/54 [==============================] - 160s 3s/step - loss: 0.6249 - accuracy: 0.7940 - val_loss: 0.5557 - val_accuracy: 0.8009\n",
            "Epoch 5/100\n",
            "54/54 [==============================] - 144s 3s/step - loss: 0.6253 - accuracy: 0.7869 - val_loss: 0.4986 - val_accuracy: 0.8322\n",
            "Epoch 6/100\n",
            "54/54 [==============================] - 147s 3s/step - loss: 0.5191 - accuracy: 0.8208 - val_loss: 0.4217 - val_accuracy: 0.8600\n",
            "Epoch 7/100\n",
            "54/54 [==============================] - 160s 3s/step - loss: 0.4821 - accuracy: 0.8279 - val_loss: 0.3827 - val_accuracy: 0.8681\n",
            "Epoch 8/100\n",
            "54/54 [==============================] - 162s 3s/step - loss: 0.4980 - accuracy: 0.8403 - val_loss: 0.3102 - val_accuracy: 0.9074\n",
            "Epoch 9/100\n",
            "54/54 [==============================] - 159s 3s/step - loss: 0.3361 - accuracy: 0.8864 - val_loss: 0.2934 - val_accuracy: 0.9016\n",
            "Epoch 10/100\n",
            "54/54 [==============================] - 161s 3s/step - loss: 0.2871 - accuracy: 0.9051 - val_loss: 0.2827 - val_accuracy: 0.8889\n",
            "Epoch 11/100\n",
            "54/54 [==============================] - 156s 3s/step - loss: 0.2499 - accuracy: 0.9271 - val_loss: 0.1663 - val_accuracy: 0.9444\n",
            "Epoch 12/100\n",
            "54/54 [==============================] - 163s 3s/step - loss: 0.2242 - accuracy: 0.9190 - val_loss: 0.1650 - val_accuracy: 0.9444\n",
            "Epoch 13/100\n",
            "54/54 [==============================] - 145s 3s/step - loss: 0.2359 - accuracy: 0.9262 - val_loss: 0.1588 - val_accuracy: 0.9444\n",
            "Epoch 14/100\n",
            "54/54 [==============================] - 151s 3s/step - loss: 0.1701 - accuracy: 0.9387 - val_loss: 0.1331 - val_accuracy: 0.9618\n",
            "Epoch 15/100\n",
            "54/54 [==============================] - 138s 3s/step - loss: 0.1459 - accuracy: 0.9572 - val_loss: 0.1009 - val_accuracy: 0.9757\n",
            "Epoch 16/100\n",
            "54/54 [==============================] - 146s 3s/step - loss: 0.1248 - accuracy: 0.9672 - val_loss: 0.0750 - val_accuracy: 0.9803\n",
            "Epoch 17/100\n",
            "54/54 [==============================] - 154s 3s/step - loss: 0.0726 - accuracy: 0.9789 - val_loss: 0.1144 - val_accuracy: 0.9699\n",
            "Epoch 18/100\n",
            "54/54 [==============================] - 150s 3s/step - loss: 0.1484 - accuracy: 0.9479 - val_loss: 0.1304 - val_accuracy: 0.9595\n",
            "Epoch 19/100\n",
            "54/54 [==============================] - 151s 3s/step - loss: 0.1088 - accuracy: 0.9625 - val_loss: 0.0838 - val_accuracy: 0.9838\n",
            "Epoch 20/100\n",
            "54/54 [==============================] - 152s 3s/step - loss: 0.1222 - accuracy: 0.9590 - val_loss: 0.0797 - val_accuracy: 0.9850\n"
          ]
        }
      ],
      "source": [
        "# Membuat EarlyStopping callback\n",
        "early_stopping = EarlyStopping(monitor='val_accuracy', patience=5, min_delta=0.01)\n",
        "\n",
        "# Train the model\n",
        "history = model.fit(\n",
        "    train_generator,\n",
        "    steps_per_epoch=train_generator.samples // 32,\n",
        "    epochs=100,  # Anda bisa mengatur jumlah epoch sesuai kebutuhan\n",
        "    validation_data=test_generator,\n",
        "    validation_steps=test_generator.samples // 32,\n",
        "    callbacks=[early_stopping]\n",
        ")"
      ]
    },
    {
      "cell_type": "code",
      "execution_count": 18,
      "metadata": {
        "id": "Ze-AYwCzpyWO",
        "colab": {
          "base_uri": "https://localhost:8080/"
        },
        "outputId": "e270ce1e-53eb-4e61-9ea4-161dfa1f3900"
      },
      "outputs": [
        {
          "output_type": "stream",
          "name": "stdout",
          "text": [
            "110/110 [==============================] - 69s 626ms/step - loss: 0.0732 - accuracy: 0.9857\n",
            "Test accuracy: 0.99\n"
          ]
        }
      ],
      "source": [
        "# Evaluate the model on the test set\n",
        "test_loss, test_acc = model.evaluate(test_generator)\n",
        "print(f'Test accuracy: {test_acc:.2f}')"
      ]
    },
    {
      "cell_type": "code",
      "execution_count": 19,
      "metadata": {
        "id": "dN_BNc59qW8Q",
        "colab": {
          "base_uri": "https://localhost:8080/",
          "height": 449
        },
        "outputId": "03f59150-aec7-47ad-9915-f0b256be01ef"
      },
      "outputs": [
        {
          "output_type": "display_data",
          "data": {
            "text/plain": [
              "<Figure size 640x480 with 1 Axes>"
            ],
            "image/png": "[encoded data removed]"
          },
          "metadata": {}
        }
      ],
      "source": [
        "import matplotlib.pyplot as plt\n",
        "\n",
        "# Plot the training history\n",
        "plt.plot(history.history['accuracy'], label='Training Accuracy')\n",
        "plt.plot(history.history['val_accuracy'], label='Validation Accuracy')\n",
        "plt.plot(history.history['loss'], label='Training Loss')\n",
        "plt.plot(history.history['val_loss'], label='Validation Loss')\n",
        "\n",
        "plt.xlabel('Epoch')\n",
        "plt.ylabel('Accuracy/Loss')\n",
        "plt.legend()\n",
        "plt.show()"
      ]
    },
    {
      "cell_type": "code",
      "execution_count": 21,
      "metadata": {
        "id": "xYNXkVbSq8_r"
      },
      "outputs": [],
      "source": [
        "# Save the model\n",
        "model.save('tampak_Atas.h5')"
      ]
    },
    {
      "cell_type": "code",
      "execution_count": 22,
      "metadata": {
        "id": "8AyGvu7prbCA"
      },
      "outputs": [],
      "source": [
        "import numpy as np\n",
        "from PIL import Image"
      ]
    },
    {
      "cell_type": "code",
      "execution_count": 26,
      "metadata": {
        "id": "eijxmGsXsJpT"
      },
      "outputs": [],
      "source": [
        "test_image= '/content/gigi4.jpeg'"
      ]
    },
    {
      "cell_type": "code",
      "execution_count": 27,
      "metadata": {
        "id": "xhjIQdFTsOqI"
      },
      "outputs": [],
      "source": [
        "img = Image.open(test_image)\n",
        "img = img.resize((224, 224))  # Resize the image to 224x224\n",
        "img = np.array(img) / 255.0  # Normalize the image pixels to [0, 1]"
      ]
    },
    {
      "cell_type": "code",
      "execution_count": 28,
      "metadata": {
        "id": "npZFcShesWaA",
        "colab": {
          "base_uri": "https://localhost:8080/"
        },
        "outputId": "d542c7f4-08ac-4e11-c402-d5ea7c424e06"
      },
      "outputs": [
        {
          "output_type": "stream",
          "name": "stdout",
          "text": [
            "1/1 [==============================] - 0s 191ms/step\n"
          ]
        }
      ],
      "source": [
        "# Add a batch dimension to the image\n",
        "img = np.expand_dims(img, axis=0)\n",
        "\n",
        "# Make predictions on the image\n",
        "predictions = model.predict(img)\n",
        "\n",
        "# Get the class probabilities\n",
        "class_probabilities = predictions[0]"
      ]
    },
    {
      "cell_type": "code",
      "execution_count": 29,
      "metadata": {
        "id": "Y_ug7-wSGOVt",
        "colab": {
          "base_uri": "https://localhost:8080/"
        },
        "outputId": "dee04722-ffc9-4d54-81b1-8eb3aeedf02a"
      },
      "outputs": [
        {
          "output_type": "execute_result",
          "data": {
            "text/plain": [
              "array([[2.7933291e-07, 6.6782660e-12, 4.6017934e-17, 9.9999976e-01]],\n",
              "      dtype=float32)"
            ]
          },
          "metadata": {},
          "execution_count": 29
        }
      ],
      "source": [
        "predictions"
      ]
    },
    {
      "cell_type": "code",
      "execution_count": 30,
      "metadata": {
        "id": "i61ocnxHsdyT",
        "colab": {
          "base_uri": "https://localhost:8080/"
        },
        "outputId": "7f714e4e-f40a-4c7c-dbb4-20b2124a853e"
      },
      "outputs": [
        {
          "output_type": "stream",
          "name": "stdout",
          "text": [
            "Predicted class: Gigi Berlubang\n",
            "Class probability: 1.00\n"
          ]
        }
      ],
      "source": [
        "# Get the class with the highest probability\n",
        "class_index = np.argmax(class_probabilities)\n",
        "class_name = ['Bengkak Gusi', 'Bukan Gambar Gigi', 'Gigi Sehat','Gigi Berlubang','Plak Gigi'][class_index]\n",
        "\n",
        "print(f'Predicted class: {class_name}')\n",
        "print(f'Class probability: {class_probabilities[class_index]:.2f}')"
      ]
    },
    {
      "cell_type": "code",
      "execution_count": null,
      "metadata": {
        "id": "Vo62PR0XuBdo"
      },
      "outputs": [],
      "source": [
        "class_probabilities"
      ]
    },
    {
      "cell_type": "code",
      "source": [],
      "metadata": {
        "id": "jjlKKFecQVR7"
      },
      "execution_count": null,
      "outputs": []
    }
  ],
  "metadata": {
    "colab": {
      "provenance": [],
      "gpuType": "T4"
    },
    "kernelspec": {
      "display_name": "Python 3",
      "name": "python3"
    },
    "language_info": {
      "name": "python"
    },
    "accelerator": "GPU"
  },
  "nbformat": 4,
  "nbformat_minor": 0
}