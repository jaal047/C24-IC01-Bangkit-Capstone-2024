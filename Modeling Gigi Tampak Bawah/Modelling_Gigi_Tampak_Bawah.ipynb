{
  "cells": [
    {
      "cell_type": "code",
      "execution_count": 13,
      "metadata": {
        "id": "cVNFlFOHdRxZ"
      },
      "outputs": [],
      "source": [
        "import numpy as np\n",
        "import tensorflow as tf\n",
        "import os\n",
        "import numpy as np\n",
        "import tensorflow as tf\n",
        "from tensorflow import keras\n",
        "from tensorflow.keras.preprocessing.image import ImageDataGenerator\n",
        "from sklearn.model_selection import train_test_split\n",
        "from google.colab import drive\n",
        "import glob\n",
        "import os\n",
        "from keras.callbacks import EarlyStopping\n"
      ]
    },
    {
      "cell_type": "code",
      "execution_count": 14,
      "metadata": {
        "colab": {
          "base_uri": "https://localhost:8080/"
        },
        "id": "OWJ2VyIydTr_",
        "outputId": "f7900d08-b2ce-4971-f328-1b5d78dc1387"
      },
      "outputs": [
        {
          "output_type": "stream",
          "name": "stdout",
          "text": [
            "Drive already mounted at /content/drive; to attempt to forcibly remount, call drive.mount(\"/content/drive\", force_remount=True).\n"
          ]
        }
      ],
      "source": [
        "drive.mount('/content/drive')"
      ]
    },
    {
      "cell_type": "code",
      "execution_count": 15,
      "metadata": {
        "id": "Tv8UFqEPdTh1"
      },
      "outputs": [],
      "source": [
        "dataset_dir = '/content/drive/MyDrive/Dataset_IC01/Gigi Tampak Bawah'"
      ]
    },
    {
      "cell_type": "code",
      "execution_count": 16,
      "metadata": {
        "id": "RbpOTnLOdTfB"
      },
      "outputs": [],
      "source": [
        "class_labels = ['Bengkak Gusi', 'Bukan Gambar Gigi', 'Gigi Sehat','Gigi Berlubang','Plak Gigi']"
      ]
    },
    {
      "cell_type": "code",
      "execution_count": 17,
      "metadata": {
        "colab": {
          "base_uri": "https://localhost:8080/"
        },
        "id": "LcSTj11yetgE",
        "outputId": "7d91bf2b-523a-4f1a-bef9-a6fc0cfb8fd3"
      },
      "outputs": [
        {
          "output_type": "stream",
          "name": "stdout",
          "text": [
            "['Gigi Sehat', 'Plak Gigi', 'Gigi Berlubang', 'Bengkak Gusi', 'Bukan Gambar Gigi']\n"
          ]
        }
      ],
      "source": [
        "import os\n",
        "files = os.listdir(dataset_dir)\n",
        "print(files)"
      ]
    },
    {
      "cell_type": "code",
      "execution_count": 18,
      "metadata": {
        "id": "KHY8JQ9zdTcn"
      },
      "outputs": [],
      "source": [
        "# Initialize an empty list to store the image files\n",
        "image_files = []\n",
        "\n",
        "# Iterate over the subdirectories\n",
        "for subdir in os.listdir(dataset_dir):\n",
        "    subdir_path = os.path.join(dataset_dir, subdir)\n",
        "    for file in os.listdir(subdir_path):\n",
        "        if file.endswith(('.jpg', '.jpeg', '.png')):\n",
        "            image_files.append(os.path.join(subdir_path, file))\n",
        "\n",
        "# Split the image files into training and testing sets\n",
        "train_files, test_files = train_test_split(image_files, test_size=0.2, random_state=42)"
      ]
    },
    {
      "cell_type": "code",
      "execution_count": 19,
      "metadata": {
        "colab": {
          "base_uri": "https://localhost:8080/"
        },
        "id": "bXw3g8Rmuqwx",
        "outputId": "4458fd4f-6169-442e-85b4-de65a2bf7745"
      },
      "outputs": [
        {
          "output_type": "stream",
          "name": "stdout",
          "text": [
            "Found 1252 images belonging to 5 classes.\n",
            "Found 1252 images belonging to 5 classes.\n"
          ]
        }
      ],
      "source": [
        "train_datagen = ImageDataGenerator(rescale=1./255)\n",
        "test_datagen = ImageDataGenerator(rescale=1./255)\n",
        "\n",
        "train_generator = train_datagen.flow_from_directory(\n",
        "    dataset_dir,\n",
        "    target_size=(224, 224),\n",
        "    batch_size=16,\n",
        "    class_mode='categorical',\n",
        "    classes=class_labels\n",
        ")\n",
        "\n",
        "test_generator = test_datagen.flow_from_directory(\n",
        "    dataset_dir,\n",
        "    target_size=(224, 224),\n",
        "    batch_size=16,\n",
        "    class_mode='categorical',\n",
        "    classes=class_labels\n",
        ")"
      ]
    },
    {
      "cell_type": "code",
      "execution_count": 20,
      "metadata": {
        "id": "AdaimzMXuquV"
      },
      "outputs": [],
      "source": [
        "# Define the CNN model architecture\n",
        "model = keras.Sequential([\n",
        "    keras.layers.Conv2D(32, (3, 3), activation='relu', input_shape=(224, 224, 3)),\n",
        "    keras.layers.MaxPooling2D((2, 2)),\n",
        "    keras.layers.Conv2D(64, (3, 3), activation='relu'),\n",
        "    keras.layers.MaxPooling2D((2, 2)),\n",
        "    keras.layers.Conv2D(128, (3, 3), activation='relu'),\n",
        "    keras.layers.MaxPooling2D((2, 2)),\n",
        "    keras.layers.Flatten(),\n",
        "    keras.layers.Dense(128, activation='relu'),\n",
        "    keras.layers.Dropout(0.2),\n",
        "    keras.layers.Dense(5, activation='softmax')\n",
        "])\n"
      ]
    },
    {
      "cell_type": "code",
      "execution_count": 21,
      "metadata": {
        "colab": {
          "base_uri": "https://localhost:8080/"
        },
        "id": "RPboycqjfp51",
        "outputId": "499003e2-5319-40ab-dcfb-a4400ecf2a38"
      },
      "outputs": [
        {
          "output_type": "stream",
          "name": "stdout",
          "text": [
            "Model: \"sequential_1\"\n",
            "_________________________________________________________________\n",
            " Layer (type)                Output Shape              Param #   \n",
            "=================================================================\n",
            " conv2d_3 (Conv2D)           (None, 222, 222, 32)      896       \n",
            "                                                                 \n",
            " max_pooling2d_3 (MaxPoolin  (None, 111, 111, 32)      0         \n",
            " g2D)                                                            \n",
            "                                                                 \n",
            " conv2d_4 (Conv2D)           (None, 109, 109, 64)      18496     \n",
            "                                                                 \n",
            " max_pooling2d_4 (MaxPoolin  (None, 54, 54, 64)        0         \n",
            " g2D)                                                            \n",
            "                                                                 \n",
            " conv2d_5 (Conv2D)           (None, 52, 52, 128)       73856     \n",
            "                                                                 \n",
            " max_pooling2d_5 (MaxPoolin  (None, 26, 26, 128)       0         \n",
            " g2D)                                                            \n",
            "                                                                 \n",
            " flatten_1 (Flatten)         (None, 86528)             0         \n",
            "                                                                 \n",
            " dense_2 (Dense)             (None, 128)               11075712  \n",
            "                                                                 \n",
            " dropout_1 (Dropout)         (None, 128)               0         \n",
            "                                                                 \n",
            " dense_3 (Dense)             (None, 5)                 645       \n",
            "                                                                 \n",
            "=================================================================\n",
            "Total params: 11169605 (42.61 MB)\n",
            "Trainable params: 11169605 (42.61 MB)\n",
            "Non-trainable params: 0 (0.00 Byte)\n",
            "_________________________________________________________________\n"
          ]
        }
      ],
      "source": [
        "model.summary()"
      ]
    },
    {
      "cell_type": "code",
      "execution_count": 22,
      "metadata": {
        "id": "YYFcMG6gfsj5"
      },
      "outputs": [],
      "source": [
        "# Compile the model\n",
        "model.compile(optimizer='adam',\n",
        "              loss='categorical_crossentropy',\n",
        "              metrics=['accuracy'])\n",
        "\n"
      ]
    },
    {
      "cell_type": "code",
      "execution_count": 23,
      "metadata": {
        "colab": {
          "base_uri": "https://localhost:8080/"
        },
        "id": "JnsUFd1afw1-",
        "outputId": "efdc17ed-dfcb-4596-9224-ca8b1de39541"
      },
      "outputs": [
        {
          "output_type": "stream",
          "name": "stdout",
          "text": [
            "Epoch 1/100\n",
            "39/39 [==============================] - 93s 2s/step - loss: 1.4048 - accuracy: 0.4444 - val_loss: 1.0684 - val_accuracy: 0.5785\n",
            "Epoch 2/100\n",
            "39/39 [==============================] - 90s 2s/step - loss: 0.9836 - accuracy: 0.6095 - val_loss: 0.8529 - val_accuracy: 0.6442\n",
            "Epoch 3/100\n",
            "39/39 [==============================] - 90s 2s/step - loss: 0.9084 - accuracy: 0.6426 - val_loss: 0.7390 - val_accuracy: 0.7179\n",
            "Epoch 4/100\n",
            "39/39 [==============================] - 86s 2s/step - loss: 0.7379 - accuracy: 0.7124 - val_loss: 0.6575 - val_accuracy: 0.7564\n",
            "Epoch 5/100\n",
            "39/39 [==============================] - 91s 2s/step - loss: 0.5722 - accuracy: 0.7859 - val_loss: 0.4373 - val_accuracy: 0.8285\n",
            "Epoch 6/100\n",
            "39/39 [==============================] - 93s 2s/step - loss: 0.4986 - accuracy: 0.8253 - val_loss: 0.3653 - val_accuracy: 0.8846\n",
            "Epoch 7/100\n",
            "39/39 [==============================] - 116s 3s/step - loss: 0.4579 - accuracy: 0.8381 - val_loss: 0.3295 - val_accuracy: 0.8766\n",
            "Epoch 8/100\n",
            "39/39 [==============================] - 92s 2s/step - loss: 0.3008 - accuracy: 0.9038 - val_loss: 0.2646 - val_accuracy: 0.9199\n",
            "Epoch 9/100\n",
            "39/39 [==============================] - 107s 3s/step - loss: 0.2009 - accuracy: 0.9395 - val_loss: 0.1636 - val_accuracy: 0.9535\n",
            "Epoch 10/100\n",
            "39/39 [==============================] - 108s 3s/step - loss: 0.1970 - accuracy: 0.9297 - val_loss: 0.1306 - val_accuracy: 0.9696\n",
            "Epoch 11/100\n",
            "39/39 [==============================] - 87s 2s/step - loss: 0.2987 - accuracy: 0.9052 - val_loss: 0.1847 - val_accuracy: 0.9503\n",
            "Epoch 12/100\n",
            "39/39 [==============================] - 87s 2s/step - loss: 0.1961 - accuracy: 0.9391 - val_loss: 0.2143 - val_accuracy: 0.9215\n",
            "Epoch 13/100\n",
            "39/39 [==============================] - 85s 2s/step - loss: 0.1471 - accuracy: 0.9641 - val_loss: 0.1034 - val_accuracy: 0.9728\n",
            "Epoch 14/100\n",
            "39/39 [==============================] - 89s 2s/step - loss: 0.1015 - accuracy: 0.9583 - val_loss: 0.0354 - val_accuracy: 0.9904\n",
            "Epoch 15/100\n",
            "39/39 [==============================] - 87s 2s/step - loss: 0.0776 - accuracy: 0.9722 - val_loss: 0.0420 - val_accuracy: 0.9856\n",
            "Epoch 16/100\n",
            "39/39 [==============================] - 86s 2s/step - loss: 0.0643 - accuracy: 0.9755 - val_loss: 0.0707 - val_accuracy: 0.9792\n",
            "Epoch 17/100\n",
            "39/39 [==============================] - 87s 2s/step - loss: 0.0727 - accuracy: 0.9776 - val_loss: 0.0203 - val_accuracy: 0.9968\n",
            "Epoch 18/100\n",
            "39/39 [==============================] - 91s 2s/step - loss: 0.0430 - accuracy: 0.9902 - val_loss: 0.0104 - val_accuracy: 0.9984\n",
            "Epoch 19/100\n",
            "39/39 [==============================] - 89s 2s/step - loss: 0.0152 - accuracy: 0.9984 - val_loss: 0.0097 - val_accuracy: 0.9968\n"
          ]
        }
      ],
      "source": [
        "# Membuat EarlyStopping callback\n",
        "early_stopping = EarlyStopping(monitor='val_accuracy', patience=5, min_delta=0.01)\n",
        "\n",
        "# Train the model\n",
        "history = model.fit(\n",
        "    train_generator,\n",
        "    steps_per_epoch=train_generator.samples // 32,\n",
        "    epochs=100,  # Anda bisa mengatur jumlah epoch sesuai kebutuhan\n",
        "    validation_data=test_generator,\n",
        "    validation_steps=test_generator.samples // 32,\n",
        "    callbacks=[early_stopping]\n",
        ")"
      ]
    },
    {
      "cell_type": "code",
      "execution_count": 24,
      "metadata": {
        "id": "Ze-AYwCzpyWO",
        "colab": {
          "base_uri": "https://localhost:8080/"
        },
        "outputId": "0da1b025-093a-4738-85c0-75f25f4e5c5e"
      },
      "outputs": [
        {
          "output_type": "stream",
          "name": "stdout",
          "text": [
            "79/79 [==============================] - 41s 520ms/step - loss: 0.0090 - accuracy: 0.9976\n",
            "Test accuracy: 1.00\n"
          ]
        }
      ],
      "source": [
        "# Evaluate the model on the test set\n",
        "test_loss, test_acc = model.evaluate(test_generator)\n",
        "print(f'Test accuracy: {test_acc:.2f}')"
      ]
    },
    {
      "cell_type": "code",
      "execution_count": 25,
      "metadata": {
        "id": "dN_BNc59qW8Q",
        "colab": {
          "base_uri": "https://localhost:8080/",
          "height": 449
        },
        "outputId": "1e6a3908-34c8-4c3b-a216-09a8066e1d02"
      },
      "outputs": [
        {
          "output_type": "display_data",
          "data": {
            "text/plain": [
              "<Figure size 640x480 with 1 Axes>"
            ],
            "image/png": "[encoded data removed]"
          },
          "metadata": {}
        }
      ],
      "source": [
        "import matplotlib.pyplot as plt\n",
        "\n",
        "# Plot the training history\n",
        "plt.plot(history.history['accuracy'], label='Training Accuracy')\n",
        "plt.plot(history.history['val_accuracy'], label='Validation Accuracy')\n",
        "plt.plot(history.history['loss'], label='Training Loss')\n",
        "plt.plot(history.history['val_loss'], label='Validation Loss')\n",
        "\n",
        "plt.xlabel('Epoch')\n",
        "plt.ylabel('Accuracy/Loss')\n",
        "plt.legend()\n",
        "plt.show()"
      ]
    },
    {
      "cell_type": "code",
      "execution_count": 26,
      "metadata": {
        "id": "xYNXkVbSq8_r",
        "colab": {
          "base_uri": "https://localhost:8080/"
        },
        "outputId": "2ee000fc-822b-4d2d-84b0-2a8bfb31777c"
      },
      "outputs": [
        {
          "output_type": "stream",
          "name": "stderr",
          "text": [
            "/usr/local/lib/python3.10/dist-packages/keras/src/engine/training.py:3103: UserWarning: You are saving your model as an HDF5 file via `model.save()`. This file format is considered legacy. We recommend using instead the native Keras format, e.g. `model.save('my_model.keras')`.\n",
            "  saving_api.save_model(\n"
          ]
        }
      ],
      "source": [
        "# Save the model\n",
        "model.save('tampak_bawah.h5')"
      ]
    },
    {
      "cell_type": "code",
      "execution_count": 34,
      "metadata": {
        "id": "8AyGvu7prbCA"
      },
      "outputs": [],
      "source": [
        "import numpy as np\n",
        "from PIL import Image"
      ]
    },
    {
      "cell_type": "code",
      "execution_count": 35,
      "metadata": {
        "id": "eijxmGsXsJpT"
      },
      "outputs": [],
      "source": [
        "test_image= '/content/gigi1.jpg'"
      ]
    },
    {
      "cell_type": "code",
      "execution_count": 36,
      "metadata": {
        "id": "xhjIQdFTsOqI"
      },
      "outputs": [],
      "source": [
        "img = Image.open(test_image)\n",
        "img = img.resize((224, 224))  # Resize the image to 224x224\n",
        "img = np.array(img) / 255.0  # Normalize the image pixels to [0, 1]"
      ]
    },
    {
      "cell_type": "code",
      "execution_count": 37,
      "metadata": {
        "id": "npZFcShesWaA",
        "colab": {
          "base_uri": "https://localhost:8080/"
        },
        "outputId": "ed35781a-d04e-4ab2-c98a-df1697d9a953"
      },
      "outputs": [
        {
          "output_type": "stream",
          "name": "stdout",
          "text": [
            "1/1 [==============================] - 0s 140ms/step\n"
          ]
        }
      ],
      "source": [
        "# Add a batch dimension to the image\n",
        "img = np.expand_dims(img, axis=0)\n",
        "\n",
        "# Make predictions on the image\n",
        "predictions = model.predict(img)\n",
        "\n",
        "# Get the class probabilities\n",
        "class_probabilities = predictions[0]"
      ]
    },
    {
      "cell_type": "code",
      "execution_count": 38,
      "metadata": {
        "id": "Y_ug7-wSGOVt",
        "colab": {
          "base_uri": "https://localhost:8080/"
        },
        "outputId": "ba59826c-0edb-4501-8db1-b7bb6faec8b3"
      },
      "outputs": [
        {
          "output_type": "execute_result",
          "data": {
            "text/plain": [
              "array([[0.0163745 , 0.40173563, 0.19206195, 0.38423207, 0.00559584]],\n",
              "      dtype=float32)"
            ]
          },
          "metadata": {},
          "execution_count": 38
        }
      ],
      "source": [
        "predictions"
      ]
    },
    {
      "cell_type": "code",
      "execution_count": 40,
      "metadata": {
        "id": "i61ocnxHsdyT",
        "colab": {
          "base_uri": "https://localhost:8080/"
        },
        "outputId": "df149c88-e622-49eb-ee45-f39a66fe005e"
      },
      "outputs": [
        {
          "output_type": "stream",
          "name": "stdout",
          "text": [
            "Predicted class: Plak Gigi\n",
            "Class probability: 0.40\n"
          ]
        }
      ],
      "source": [
        "# Get the class with the highest probability\n",
        "class_index = np.argmax(class_probabilities)\n",
        "class_name = ['Bengkak Gusi', 'Bukan Gambar Gigi', 'Gigi Sehat','Gigi Berlubang','Plak Gigi'][class_index]\n",
        "\n",
        "print(f'Predicted class: {class_name}')\n",
        "print(f'Class probability: {class_probabilities[class_index]:.2f}')"
      ]
    },
    {
      "cell_type": "code",
      "execution_count": 41,
      "metadata": {
        "id": "Vo62PR0XuBdo",
        "colab": {
          "base_uri": "https://localhost:8080/"
        },
        "outputId": "9cb6806b-315f-4247-cd90-6cf5acc31366"
      },
      "outputs": [
        {
          "output_type": "execute_result",
          "data": {
            "text/plain": [
              "array([0.0163745 , 0.40173563, 0.19206195, 0.38423207, 0.00559584],\n",
              "      dtype=float32)"
            ]
          },
          "metadata": {},
          "execution_count": 41
        }
      ],
      "source": [
        "class_probabilities"
      ]
    },
    {
      "cell_type": "code",
      "source": [],
      "metadata": {
        "id": "jjlKKFecQVR7"
      },
      "execution_count": null,
      "outputs": []
    }
  ],
  "metadata": {
    "colab": {
      "provenance": []
    },
    "kernelspec": {
      "display_name": "Python 3",
      "name": "python3"
    },
    "language_info": {
      "name": "python"
    }
  },
  "nbformat": 4,
  "nbformat_minor": 0
}